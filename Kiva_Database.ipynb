{
 "cells": [
  {
   "cell_type": "code",
   "execution_count": null,
   "metadata": {},
   "outputs": [],
   "source": [
    "from bs4 import BeautifulSoup\n",
    "from selenium import webdriver\n",
    "from selenium.webdriver.support.ui import Select\n",
    "from time import sleep\n",
    "import requests\n",
    "import pandas as pd\n",
    "import json\n",
    "import time\n",
    "import random\n",
    "import re\n",
    "import sqlite3"
   ]
  },
  {
   "cell_type": "code",
   "execution_count": null,
   "metadata": {},
   "outputs": [],
   "source": [
    "driverDir = r'/media/datngo/Driver1/Ubuntu setup/chromedriver_linux64/chromedriver'"
   ]
  },
  {
   "cell_type": "markdown",
   "metadata": {},
   "source": [
    "## Scrape loans' data and manipulate data and create table kivaLoans "
   ]
  },
  {
   "cell_type": "code",
   "execution_count": null,
   "metadata": {},
   "outputs": [],
   "source": [
    "sectorsCode = range(1,18)\n",
    "genders = ['male','female']\n",
    "startPageLink = 'https://www.kiva.org/lend?gender={0}&sector={1}'\n",
    "loanData = []\n",
    "driver = webdriver.Chrome(executable_path = driverDir)\n",
    "for i, sector in enumerate(sectorsCode):\n",
    "    for j, gender in enumerate(genders):\n",
    "        pageNo = 1\n",
    "        driver.get(startPageLink.format(gender,sector))\n",
    "        time.sleep(10)\n",
    "        viewList = driver.find_element_by_xpath(\"//label[@for = 'view-buttons-list']\")\n",
    "        viewList.click()\n",
    "        time.sleep(10)\n",
    "        while True:\n",
    "            if len(driver.find_elements_by_xpath(\"//div[@class = 'loan-card-2 row']\")) > 0: # check whether a page contains a loan information\n",
    "                for loanElement in driver.find_elements_by_xpath(\"//div[@class = 'loan-card-2 row']\"): # get all div of loan in a page\n",
    "                    borrowLink = loanElement.find_element_by_xpath(\".//a[@class = 'loan-card-2-borrower-name']\").get_attribute('href')\n",
    "                    loanText = loanElement.text.split('\\n')\n",
    "                    loanData.append(tuple([i] + [j] + [borrowLink]  + loanText[:-1]))\n",
    "            else:\n",
    "                break\n",
    "            try:\n",
    "                nextPage = driver.find_element_by_xpath(\"//a[@class = 'next button secondary ']\")\n",
    "                nextPage.click()\n",
    "            except Exception as e2:\n",
    "                print(gender, sector, pageNo,len(loanData))\n",
    "                print(\"End of sector\")\n",
    "                break\n",
    "            print(gender, sector, pageNo,len(loanData))\n",
    "            pageNo += 1\n",
    "            time.sleep(10)"
   ]
  },
  {
   "cell_type": "code",
   "execution_count": null,
   "metadata": {},
   "outputs": [],
   "source": [
    "# manipulate crawled data to useful format\n",
    "kiva_df = pd.DataFrame(loanData, columns = ['sectorId', 'genderId', 'loanUrl', 'borrowerName', 'country',\n",
    "       'loanDescription', 'lendingPartner', 'loanLength', 'amountToGo'])\n",
    "kiva_df['loanId'] = kiva_df['loanUrl'].apply(lambda x: int(x.split('/')[-1]))\n",
    "kiva_df['loanAmount_USD'] = kiva_df['loanDescription'].apply(lambda x: int(x.split('$')[1].split()[0].replace(',','')))\n",
    "kiva_df['loanDescriptionText'] = kiva_df['loanDescription'].apply(lambda x: x[re.search('^A loan of \\$[0-9\\,]*',x).end():]) \n",
    "kiva_df['loanLengthNumber'] = kiva_df['loanLength'].apply(lambda x: int(x[:re.search(' months',x).start()]))"
   ]
  },
  {
   "cell_type": "code",
   "execution_count": null,
   "metadata": {},
   "outputs": [],
   "source": [
    "# load kiva loan data to database\n",
    "conn = sqlite3.connect('kivaloans.db')\n",
    "kiva_df[['sectorId','genderId','loanUrl','country','loanDescriptionText','lendingPartner'\n",
    "        ,'loanLengthNumber','amountToGo','loanId','loanAmount_USD']].to_sql('kivaLoans', conn, if_exists='replace', index = True)\n",
    "conn.commit()\n",
    "conn.close()"
   ]
  },
  {
   "cell_type": "markdown",
   "metadata": {},
   "source": [
    "## Scrape countries' data and create table countries"
   ]
  },
  {
   "cell_type": "code",
   "execution_count": null,
   "metadata": {
    "scrolled": true
   },
   "outputs": [],
   "source": [
    "# Crawling country list\n",
    "driver = webdriver.Chrome(executable_path = driverDir)\n",
    "driver.get('https://www.kiva.org/lend?kexpn=lend_filter.lend_filter_versions&kexpv=c')\n",
    "time.sleep(5)\n",
    "driver.find_element_by_xpath(\"//a[@class = 'filter-menu-button button setting left-off-canvas-toggle']\").click()\n",
    "time.sleep(5)\n",
    "driver.find_element_by_xpath(\"//a[@data-reveal-id = 'countrySelectModal']\").click()\n",
    "time.sleep(5)\n",
    "countryList = []\n",
    "for regionElement in driver.find_elements_by_xpath(\"//section[@class = 'region-name']\"):\n",
    "    for countryElement in regionElement.find_elements_by_xpath(\".//div[@class = 'country filter checkbox-input']\"):\n",
    "        countryCode = countryElement.find_element_by_xpath(\".//input[@class = 'countryCheckbox']\").get_attribute('value')\n",
    "        countryName = countryElement.text[:re.search(' \\([0-9]*\\)',countryElement.text).start()]\n",
    "        countryList.append((countryName,countryCode,regionElement.text.split('\\n')[0][:-11]))"
   ]
  },
  {
   "cell_type": "code",
   "execution_count": null,
   "metadata": {},
   "outputs": [],
   "source": [
    "# load country info into db\n",
    "conn = sqlite3.connect('kivaloans.db')\n",
    "c = conn.cursor()\n",
    "# c.execute(\"DROP TABLE countries\")\n",
    "c.execute(\"\"\"CREATE TABLE countries(\n",
    "            id INTEGER PRIMARY KEY AUTOINCREMENT,\n",
    "            countryName TEXT,\n",
    "            countryCode TEXT,\n",
    "            regionName TEXT\n",
    "            )\"\"\")\n",
    "conn.commit()\n",
    "c.executemany(\"INSERT INTO countries(countryName,countryCode, regionName) VALUES(?,?,?)\",countryList)\n",
    "conn.commit()\n",
    "conn.close()"
   ]
  },
  {
   "cell_type": "markdown",
   "metadata": {},
   "source": [
    "## Scrape sectors' data and create table sectors"
   ]
  },
  {
   "cell_type": "code",
   "execution_count": null,
   "metadata": {},
   "outputs": [],
   "source": [
    "# load sector table into db\n",
    "sectorCodes = [1,9,5,14,15,17,12,6,10,8,16,7,4,3,13]\n",
    "sectorNames = ['Agriculture','Arts','Clothing','Construction','Education','Entertainment','Food','Health','Housing',\n",
    "              'Manufacturing','Personal use','Retail','Services','Transportation','Wholesale']\n",
    "sectorIds = list(map(lambda x: x - 1, sectorCodes))\n",
    "sectorRecords = []\n",
    "for sectorId,code,name in zip(sectorIds,sectorCode,sectorName):\n",
    "    sectorRecords.append((sectorId,code,name))\n",
    "\n",
    "conn = sqlite3.connect('kivaloans.db')\n",
    "c = conn.cursor()\n",
    "# c.execute(\"DROP TABLE sectors\")\n",
    "c.execute(\"\"\"CREATE TABLE sectors(\n",
    "            sectorId INTEGER PRIMARY KEY,\n",
    "            sectorCode TEXT,\n",
    "            sectorName TEXT)\"\"\")\n",
    "conn.commit()\n",
    "c.executemany(\"INSERT INTO sectors(sectorId, sectorCode, sectorName) VALUES(?,?,?)\",sectorRecords)\n",
    "conn.commit()\n",
    "conn.close()"
   ]
  },
  {
   "cell_type": "markdown",
   "metadata": {},
   "source": [
    "## Create table genders"
   ]
  },
  {
   "cell_type": "code",
   "execution_count": null,
   "metadata": {},
   "outputs": [],
   "source": [
    "# load gender table into db\n",
    "genderRecords = [(0, 'male'),(1, 'female')]\n",
    "conn = sqlite3.connect('kivaloans.db')\n",
    "c = conn.cursor()\n",
    "c.execute(\"\"\"CREATE TABLE genders(\n",
    "            genderId INTEGER PRIMARY KEY,\n",
    "            gender TEXT)\"\"\")\n",
    "c.executemany(\"INSERT INTO genders(genderId, gender) VALUES (?,?)\",genderRecords)\n",
    "conn.commit()\n",
    "conn.close()"
   ]
  },
  {
   "cell_type": "markdown",
   "metadata": {},
   "source": [
    "## Create table kivaLoansUpdateTemp for updating new loans"
   ]
  },
  {
   "cell_type": "code",
   "execution_count": null,
   "metadata": {},
   "outputs": [],
   "source": [
    "# create the temporary update table\n",
    "conn = sqlite3.connect('kivaloans.db')\n",
    "c = conn.cursor()\n",
    "c.execute(\"\"\"\n",
    "            CREATE TABLE kivaLoansUpdateTemp (\n",
    "            loanId INTEGER,\n",
    "            borrowerName TEXT,\n",
    "            loanLengthNumber INTEGER,\n",
    "            borrowerGender TEXT,\n",
    "            amountRaised INTEGER,\n",
    "            sector TEXT,\n",
    "            loanDescription TEXT,\n",
    "            country TEXT,\n",
    "            loanAmount INTEGER,\n",
    "            lendingPartner TEXT,\n",
    "            loanUrl TEXT,\n",
    "            genderId INTEGER,\n",
    "            sectorId INTEGER,\n",
    "            countryId INTEGER,\n",
    "            loanAmountToGo INTEGER,\n",
    "            createDate TEXT\n",
    "            )\"\"\")\n",
    "conn.commit()\n",
    "conn.close()"
   ]
  },
  {
   "cell_type": "markdown",
   "metadata": {},
   "source": [
    "## Create table users"
   ]
  },
  {
   "cell_type": "code",
   "execution_count": null,
   "metadata": {},
   "outputs": [],
   "source": [
    "# create table users for userName and password\n",
    "import sqlite3\n",
    "conn = sqlite3.connect('kivaloans.db')\n",
    "c = conn.cursor()\n",
    "c.execute(\"\"\"\n",
    "            CREATE TABLE users (\n",
    "            userId INTEGER PRIMARY KEY AUTOINCREMENT, \n",
    "            userName TEXT,\n",
    "            password TEXT\n",
    "            )\"\"\")\n",
    "conn.commit()\n",
    "conn.close()"
   ]
  },
  {
   "cell_type": "markdown",
   "metadata": {},
   "source": [
    "## Create table countryLatLon to add iso3 code for map chart"
   ]
  },
  {
   "cell_type": "code",
   "execution_count": null,
   "metadata": {},
   "outputs": [],
   "source": [
    "# create table country Lat Long to load country lattitude and longtitude\n",
    "conn = sqlite3.connect('kivaloans.db')\n",
    "countryLatLon_df = pd.read_csv(\"worldcountries.csv\")\n",
    "conn = sqlite3.connect('kivaloans.db')\n",
    "countryLatLon_df.to_sql('countryLatLon',conn, if_exists='replace', index = True)\n",
    "conn.commit()\n",
    "conn.close()"
   ]
  },
  {
   "cell_type": "code",
   "execution_count": null,
   "metadata": {},
   "outputs": [],
   "source": [
    "# add iso3 code into table countries\n",
    "conn = sqlite3.connect('kivaloans.db')\n",
    "c = conn.cursor()\n",
    "c.execute(\"\"\"ALTER TABLE countries ADD COLUMN iso3 TEXT\"\"\")\n",
    "c.execute(\"\"\"UPDATE countries \n",
    "            SET iso3 = (SELECT iso3 FROM countryLatLon WHERE LOWER(iso2) = countryCode)\"\"\")\n",
    "conn.commit()"
   ]
  },
  {
   "cell_type": "markdown",
   "metadata": {},
   "source": [
    "## Add, update columns and create foreign keys"
   ]
  },
  {
   "cell_type": "code",
   "execution_count": null,
   "metadata": {},
   "outputs": [],
   "source": [
    "# Add and update columns countryId and createdDate in table kivaLoans\n",
    "conn = sqlite3.connect('kivaloans.db')\n",
    "c = conn.cursor()\n",
    "c.execute(\"ALTER TABLE kivaLoans ADD COLUMN countryId TEXT\")\n",
    "c.execute (\"UPDATE kivaLoans SET countryId = (SELECT id FROM countries WHERE countryName = country)\")\n",
    "c.execute(\"ALTER TABLE kivaLoans ADD COLUMN createdDate TEXT\")\n",
    "c.execute(\"UPDATE kivaLoans SET createdDate = '2021-01-20'\")\n",
    "conn.commit()"
   ]
  },
  {
   "cell_type": "code",
   "execution_count": null,
   "metadata": {},
   "outputs": [],
   "source": [
    "# Add foreign keys in kivaLoans table\n",
    "conn = sqlite3.connect('kivaloans.db')\n",
    "c = conn.cursor()\n",
    "c.execute (\"\"\"ALTER TABLE kivaLoans RENAME TO kivaLoans_old\"\"\");\n",
    "c.execute(\"PRAGMA foreign_keys = ON\")\n",
    "c.execute(\"DROP TABLE kivaLoans\")\n",
    "c.execute (\"\"\"\n",
    "            CREATE TABLE kivaLoans(\n",
    "            id INTEGER PRIMARY KEY,\n",
    "            sectorId INTEGER,\n",
    "            genderId INTEGER,\n",
    "            loanUrl TEXT,\n",
    "            country TEXT,\n",
    "            loanDescriptionText TEXT,\n",
    "            lendingPartner TEXT,\n",
    "            loanLengthNumber TEXT,\n",
    "            amountToGo TEXT,\n",
    "            loanId INTEGER,\n",
    "            loanAmount_USD INTEGER,\n",
    "            countryId INTEGER,\n",
    "            createdDate TEXT,\n",
    "            FOREIGN KEY (genderId) REFERENCES genders(genderId),\n",
    "            FOREIGN KEY (countryId) REFERENCES countries(id),\n",
    "            FOREIGN KEY (sectorId) REFERENCES sectors(sectorId))\"\"\")\n",
    "c.execute (\"INSERT INTO kivaLoans SELECT * FROM kivaLoans_old\")\n",
    "c.execute(\"DROP TABLE kivaLoans_old\")\n",
    "conn.commit()"
   ]
  },
  {
   "cell_type": "markdown",
   "metadata": {},
   "source": [
    "## Create indexes"
   ]
  },
  {
   "cell_type": "code",
   "execution_count": null,
   "metadata": {},
   "outputs": [],
   "source": [
    "create indexes\n",
    "genderRecords = [(0, 'male'),(1, 'female')]\n",
    "conn = sqlite3.connect('kivaloans.db')\n",
    "c = conn.cursor()\n",
    "c.execute(\"\"\"CREATE INDEX sectorId ON kivaLoans(sectorId)\"\"\")\n",
    "c.execute(\"\"\"CREATE INDEX countryId ON kivaLoans(countryId)\"\"\")\n",
    "c.execute(\"\"\"CREATE INDEX genderId ON kivaLoans(genderId)\"\"\")\n",
    "c.execute(\"\"\"CREATE INDEX kivaLoanId ON kivaLoans(loanId)\"\"\")\n",
    "c.execute(\"\"\"CREATE INDEX genderId_gender ON genders(genderId)\"\"\")\n",
    "c.execute(\"\"\"CREATE INDEX countryId_country ON countries(id)\"\"\")\n",
    "c.execute(\"\"\"CREATE INDEX sectorId_sector ON sectors(sectorId)\"\"\")\n",
    "conn.commit()\n",
    "conn.close()"
   ]
  },
  {
   "cell_type": "markdown",
   "metadata": {},
   "source": [
    "## Create a view"
   ]
  },
  {
   "cell_type": "code",
   "execution_count": null,
   "metadata": {},
   "outputs": [],
   "source": [
    "# Create a view of loan info by joining tables\n",
    "conn = sqlite3.connect('kivaloans.db')\n",
    "c = conn.cursor()\n",
    "# c.execute (\"DROP VIEW v_loanInfoSum\")\n",
    "c.execute(\"\"\"\n",
    "            CREATE VIEW v_loanInfoSum\n",
    "            AS SELECT \n",
    "            L.id,L.loanUrl,L.country,L.loanDescriptionText,L.lendingPartner\n",
    "            ,L.loanLengthNumber, L.loanAmount_USD,L.loanId, L.amountToGoNumber\n",
    "            ,C.countryCode, C.regionName\n",
    "            ,G.gender, S.sectorCode, S.sectorName\n",
    "            FROM kivaLoans L \n",
    "            LEFT JOIN countries C ON L.countryId = C.id\n",
    "            LEFT JOIN sectors S ON L.sectorId = S.sectorId\n",
    "            LEFT JOIN genders G ON L.genderId = G.genderId\"\"\")\n",
    "conn.commit()\n",
    "conn.close()"
   ]
  },
  {
   "cell_type": "markdown",
   "metadata": {},
   "source": [
    "## Manipulate data in table KivaLoans using custom functions"
   ]
  },
  {
   "cell_type": "code",
   "execution_count": null,
   "metadata": {},
   "outputs": [],
   "source": [
    "conn = sqlite3.connect('kivaloans.db')\n",
    "c = conn.cursor()\n",
    "c.execute(\"ALTER TABLE kivaLoans ADD COLUMN amountToGoNumber INTEGER\")\n",
    "def amountExtract(amt):\n",
    "    try:\n",
    "        return int(re.search('\\$[0-9\\,]*',amt).group(0).replace(',','').replace('$',''))\n",
    "    except: \n",
    "        return None\n",
    "conn.create_function(\"amountExtract\",1,amountExtract)\n",
    "c.execute(\"UPDATE kivaLoans SET amountToGoNumber = amountExtract(amountToGo)\")\n",
    "conn.commit()"
   ]
  },
  {
   "cell_type": "markdown",
   "metadata": {},
   "source": [
    "## Remove duplicate data"
   ]
  },
  {
   "cell_type": "code",
   "execution_count": null,
   "metadata": {},
   "outputs": [],
   "source": [
    "# remove duplicate rows based on loan Id\n",
    "c.execute(\"\"\"DELETE \n",
    "            FROM kivaLoans\n",
    "            WHERE id IN \n",
    "            (SELECT id FROM \n",
    "            (SELECT id,loanId, RANK () OVER (PARTITION BY loanId ORDER BY id ASC) as rk\n",
    "            FROM kivaLoans) AS t\n",
    "            WHERE t.rk > 1)\n",
    "\"\"\")\n",
    "conn.commit()"
   ]
  }
 ],
 "metadata": {
  "kernelspec": {
   "display_name": "Python 3",
   "language": "python",
   "name": "python3"
  },
  "language_info": {
   "codemirror_mode": {
    "name": "ipython",
    "version": 3
   },
   "file_extension": ".py",
   "mimetype": "text/x-python",
   "name": "python",
   "nbconvert_exporter": "python",
   "pygments_lexer": "ipython3",
   "version": "3.7.10"
  }
 },
 "nbformat": 4,
 "nbformat_minor": 2
}
